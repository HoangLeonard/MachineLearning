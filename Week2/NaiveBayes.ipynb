{
 "cells": [
  {
   "attachments": {},
   "cell_type": "markdown",
   "metadata": {},
   "source": [
    "$p(y=k|x) \\propto p(x|y=k) * p(y=k)$\n",
    "\n",
    "$p([x_1, x_2, x_3, x_4] | y = k) * 0_k$\n",
    "\n",
    "$\\prod_{j=1}^D p(x_j| y = k) * 0_k$\n",
    "\n",
    "$\\prod_{j=1}^D p(x_j| y = k) * 0_k$\n",
    "\n",
    "posterior distribution $\\propto$ [likelihood distribution] * [prior distribution]"
   ]
  },
  {
   "cell_type": "code",
   "execution_count": 2,
   "metadata": {},
   "outputs": [
    {
     "data": {
      "text/plain": [
       "8-element Vector{Int64}:\n",
       " 1\n",
       " 1\n",
       " 2\n",
       " 2\n",
       " 2\n",
       " 1\n",
       " 2\n",
       " 1"
      ]
     },
     "metadata": {},
     "output_type": "display_data"
    }
   ],
   "source": [
    "y = [1;1;2;2;2;1;2;1]\n",
    "# p(y=1) = ?, p(y=2) = ?"
   ]
  },
  {
   "cell_type": "code",
   "execution_count": 7,
   "metadata": {},
   "outputs": [
    {
     "data": {
      "text/plain": [
       "0.5"
      ]
     },
     "metadata": {},
     "output_type": "display_data"
    }
   ],
   "source": [
    "θ = zeros(2) # K =2, prior distribution\n",
    "N = length(y)\n",
    "θ[1] = sum(y .== 1)/N\n",
    "θ[2] = sum(y .== 2)/N"
   ]
  },
  {
   "cell_type": "code",
   "execution_count": 10,
   "metadata": {},
   "outputs": [
    {
     "data": {
      "text/plain": [
       "8×4 Matrix{Int64}:\n",
       " 1  1  1  0\n",
       " 1  1  1  1\n",
       " 0  1  1  0\n",
       " 0  0  1  1\n",
       " 0  0  0  0\n",
       " 0  0  0  1\n",
       " 1  0  0  0\n",
       " 0  1  1  1"
      ]
     },
     "metadata": {},
     "output_type": "display_data"
    }
   ],
   "source": [
    "X = [1 1 1 0;\n",
    "1 1 1 1;\n",
    "0 1 1 0;\n",
    "0 0 1 1;\n",
    "0 0 0 0;\n",
    "0 0 0 1;\n",
    "1 0 0 0;\n",
    "0 1 1 1]"
   ]
  },
  {
   "cell_type": "code",
   "execution_count": 11,
   "metadata": {},
   "outputs": [
    {
     "data": {
      "text/plain": [
       "4×4 Matrix{Int64}:\n",
       " 1  1  1  0\n",
       " 1  1  1  1\n",
       " 0  0  0  1\n",
       " 0  1  1  1"
      ]
     },
     "metadata": {},
     "output_type": "display_data"
    }
   ],
   "source": [
    "id1 = (y .== 1)\n",
    "X1 = X[id1, : ]"
   ]
  },
  {
   "cell_type": "code",
   "execution_count": 12,
   "metadata": {},
   "outputs": [
    {
     "data": {
      "text/plain": [
       "1×4 Matrix{Int64}:\n",
       " 2  3  3  3"
      ]
     },
     "metadata": {},
     "output_type": "display_data"
    }
   ],
   "source": [
    "sum(X1, dims = 1)"
   ]
  },
  {
   "cell_type": "code",
   "execution_count": 14,
   "metadata": {},
   "outputs": [
    {
     "data": {
      "text/plain": [
       "4×4 Matrix{Int64}:\n",
       " 0  1  1  0\n",
       " 0  0  1  1\n",
       " 0  0  0  0\n",
       " 1  0  0  0"
      ]
     },
     "metadata": {},
     "output_type": "display_data"
    }
   ],
   "source": [
    "id2 = (y .== 2)\n",
    "X2 = X[id2, : ]"
   ]
  },
  {
   "cell_type": "code",
   "execution_count": 16,
   "metadata": {},
   "outputs": [
    {
     "data": {
      "text/plain": [
       "1×4 Matrix{Int64}:\n",
       " 1  1  2  1"
      ]
     },
     "metadata": {},
     "output_type": "display_data"
    }
   ],
   "source": [
    "sum(X2, dims=1)"
   ]
  },
  {
   "cell_type": "code",
   "execution_count": 24,
   "metadata": {},
   "outputs": [
    {
     "data": {
      "text/plain": [
       "train (generic function with 1 method)"
      ]
     },
     "metadata": {},
     "output_type": "display_data"
    }
   ],
   "source": [
    "function train(X, y)\n",
    "    K = length(unique(y)) #number of label\n",
    "    N, D = size(X) #number of samples and domain dimensions\n",
    "    θ_k = zeros(K)  \n",
    "    θ_jk = zeros(D, K)\n",
    "    for k=1:K\n",
    "        idk = (y .== k)\n",
    "        θ_k[k] = sum(idk)\n",
    "        Xk= X[idk, : ]\n",
    "        θ_jk[:, k] = sum(Xk, dims = 1) ./ θ_k[k]\n",
    "    end\n",
    "    return θ_k/N, θ_jk\n",
    "end"
   ]
  },
  {
   "cell_type": "code",
   "execution_count": 35,
   "metadata": {},
   "outputs": [
    {
     "data": {
      "text/plain": [
       "classify (generic function with 1 method)"
      ]
     },
     "metadata": {},
     "output_type": "display_data"
    }
   ],
   "source": [
    "function classify(θ_k, θ_jk, xNew)\n",
    "    D, K = size(θ_jk)\n",
    "    p = zeros(K) #log posterior distributions\n",
    "    for k=1:K\n",
    "        s = 0\n",
    "        for j=1:D #donot use it #vectorization computation.\n",
    "            s = s + if (xNew[j] == 1) log(θ_jk[j,k]) else log(1 - θ_jk[j,k]) end\n",
    "        end\n",
    "        p[k] = log(θ[k]) + s\n",
    "    end\n",
    "    return argmax(p)\n",
    "end"
   ]
  },
  {
   "cell_type": "code",
   "execution_count": 43,
   "metadata": {},
   "outputs": [
    {
     "data": {
      "text/plain": [
       "([0.5, 0.5], [0.5 0.25; 0.75 0.25; 0.75 0.5; 0.75 0.25])"
      ]
     },
     "metadata": {},
     "output_type": "display_data"
    }
   ],
   "source": [
    "θ_k, θ_jk= train(X,y)"
   ]
  },
  {
   "cell_type": "code",
   "execution_count": 46,
   "metadata": {},
   "outputs": [
    {
     "data": {
      "text/plain": [
       "1"
      ]
     },
     "metadata": {},
     "output_type": "display_data"
    }
   ],
   "source": [
    "xNew = [1;0;1;0]\n",
    "yNew = classify(θ_k, θ_jk, xNew)*2\n",
    "argmax(yNew)"
   ]
  },
  {
   "cell_type": "code",
   "execution_count": 2,
   "metadata": {},
   "outputs": [],
   "source": [
    "using Plots"
   ]
  },
  {
   "cell_type": "code",
   "execution_count": 4,
   "metadata": {},
   "outputs": [
    {
     "data": {
      "image/png": "[encoded data removed]",
      "image/svg+xml": [
       "<?xml version=\"1.0\" encoding=\"utf-8\"?>\n",
       "<svg xmlns=\"http://www.w3.org/2000/svg\" xmlns:xlink=\"http://www.w3.org/1999/xlink\" width=\"600\" height=\"400\" viewBox=\"0 0 2400 1600\">\n",
       "<defs>\n",
       "  <clipPath id=\"clip480\">\n",
       "    <rect x=\"0\" y=\"0\" width=\"2400\" height=\"1600\"/>\n",
       "  </clipPath>\n",
       "</defs>\n",
       "<path clip-path=\"url(#clip480)\" d=\"M0 1600 L2400 1600 L2400 0 L0 0  Z\" fill=\"#ffffff\" fill-rule=\"evenodd\" fill-opacity=\"1\"/>\n",
       "<defs>\n",
       "  <clipPath id=\"clip481\">\n",
       "    <rect x=\"480\" y=\"0\" width=\"1681\" height=\"1600\"/>\n",
       "  </clipPath>\n",
       "</defs>\n",
       "<path clip-path=\"url(#clip480)\" d=\"M156.922 1486.45 L2352.76 1486.45 L2352.76 47.2441 L156.922 47.2441  Z\" fill=\"#ffffff\" fill-rule=\"evenodd\" fill-opacity=\"1\"/>\n",
       "<defs>\n",
       "  <clipPath id=\"clip482\">\n",
       "    <rect x=\"156\" y=\"47\" width=\"2197\" height=\"1440\"/>\n",
       "  </clipPath>\n",
       "</defs>\n",
       "<polyline clip-path=\"url(#clip482)\" style=\"stroke:#000000; stroke-linecap:round; stroke-linejoin:round; stroke-width:2; stroke-opacity:0.1; fill:none\" points=\"219.069,1486.45 219.069,47.2441 \"/>\n",
       "<polyline clip-path=\"url(#clip482)\" style=\"stroke:#000000; stroke-linecap:round; stroke-linejoin:round; stroke-width:2; stroke-opacity:0.1; fill:none\" points=\"736.954,1486.45 736.954,47.2441 \"/>\n",
       "<polyline clip-path=\"url(#clip482)\" style=\"stroke:#000000; stroke-linecap:round; stroke-linejoin:round; stroke-width:2; stroke-opacity:0.1; fill:none\" points=\"1254.84,1486.45 1254.84,47.2441 \"/>\n",
       "<polyline clip-path=\"url(#clip482)\" style=\"stroke:#000000; stroke-linecap:round; stroke-linejoin:round; stroke-width:2; stroke-opacity:0.1; fill:none\" points=\"1772.72,1486.45 1772.72,47.2441 \"/>\n",
       "<polyline clip-path=\"url(#clip482)\" style=\"stroke:#000000; stroke-linecap:round; stroke-linejoin:round; stroke-width:2; stroke-opacity:0.1; fill:none\" points=\"2290.61,1486.45 2290.61,47.2441 \"/>\n",
       "<polyline clip-path=\"url(#clip480)\" style=\"stroke:#000000; stroke-linecap:round; stroke-linejoin:round; stroke-width:4; stroke-opacity:1; fill:none\" points=\"156.922,1486.45 2352.76,1486.45 \"/>\n",
       "<polyline clip-path=\"url(#clip480)\" style=\"stroke:#000000; stroke-linecap:round; stroke-linejoin:round; stroke-width:4; stroke-opacity:1; fill:none\" points=\"219.069,1486.45 219.069,1467.55 \"/>\n",
       "<polyline clip-path=\"url(#clip480)\" style=\"stroke:#000000; stroke-linecap:round; stroke-linejoin:round; stroke-width:4; stroke-opacity:1; fill:none\" points=\"736.954,1486.45 736.954,1467.55 \"/>\n",
       "<polyline clip-path=\"url(#clip480)\" style=\"stroke:#000000; stroke-linecap:round; stroke-linejoin:round; stroke-width:4; stroke-opacity:1; fill:none\" points=\"1254.84,1486.45 1254.84,1467.55 \"/>\n",
       "<polyline clip-path=\"url(#clip480)\" style=\"stroke:#000000; stroke-linecap:round; stroke-linejoin:round; stroke-width:4; stroke-opacity:1; fill:none\" points=\"1772.72,1486.45 1772.72,1467.55 \"/>\n",
       "<polyline clip-path=\"url(#clip480)\" style=\"stroke:#000000; stroke-linecap:round; stroke-linejoin:round; stroke-width:4; stroke-opacity:1; fill:none\" points=\"2290.61,1486.45 2290.61,1467.55 \"/>\n",
       "<path clip-path=\"url(#clip480)\" d=\"M186.221 1544.91 L193.86 1544.91 L193.86 1518.55 L185.55 1520.21 L185.55 1515.95 L193.814 1514.29 L198.49 1514.29 L198.49 1544.91 L206.129 1544.91 L206.129 1548.85 L186.221 1548.85 L186.221 1544.91 Z\" fill=\"#000000\" fill-rule=\"evenodd\" fill-opacity=\"1\" /><path clip-path=\"url(#clip480)\" d=\"M215.573 1542.97 L220.457 1542.97 L220.457 1548.85 L215.573 1548.85 L215.573 1542.97 Z\" fill=\"#000000\" fill-rule=\"evenodd\" fill-opacity=\"1\" /><path clip-path=\"url(#clip480)\" d=\"M240.642 1517.37 Q237.031 1517.37 235.203 1520.93 Q233.397 1524.47 233.397 1531.6 Q233.397 1538.71 235.203 1542.27 Q237.031 1545.82 240.642 1545.82 Q244.277 1545.82 246.082 1542.27 Q247.911 1538.71 247.911 1531.6 Q247.911 1524.47 246.082 1520.93 Q244.277 1517.37 240.642 1517.37 M240.642 1513.66 Q246.453 1513.66 249.508 1518.27 Q252.587 1522.85 252.587 1531.6 Q252.587 1540.33 249.508 1544.94 Q246.453 1549.52 240.642 1549.52 Q234.832 1549.52 231.754 1544.94 Q228.698 1540.33 228.698 1531.6 Q228.698 1522.85 231.754 1518.27 Q234.832 1513.66 240.642 1513.66 Z\" fill=\"#000000\" fill-rule=\"evenodd\" fill-opacity=\"1\" /><path clip-path=\"url(#clip480)\" d=\"M704.604 1544.91 L712.243 1544.91 L712.243 1518.55 L703.933 1520.21 L703.933 1515.95 L712.197 1514.29 L716.873 1514.29 L716.873 1544.91 L724.512 1544.91 L724.512 1548.85 L704.604 1548.85 L704.604 1544.91 Z\" fill=\"#000000\" fill-rule=\"evenodd\" fill-opacity=\"1\" /><path clip-path=\"url(#clip480)\" d=\"M733.956 1542.97 L738.84 1542.97 L738.84 1548.85 L733.956 1548.85 L733.956 1542.97 Z\" fill=\"#000000\" fill-rule=\"evenodd\" fill-opacity=\"1\" /><path clip-path=\"url(#clip480)\" d=\"M749.072 1514.29 L767.428 1514.29 L767.428 1518.22 L753.354 1518.22 L753.354 1526.7 Q754.373 1526.35 755.391 1526.19 Q756.41 1526 757.428 1526 Q763.215 1526 766.595 1529.17 Q769.974 1532.34 769.974 1537.76 Q769.974 1543.34 766.502 1546.44 Q763.03 1549.52 756.711 1549.52 Q754.535 1549.52 752.266 1549.15 Q750.021 1548.78 747.613 1548.04 L747.613 1543.34 Q749.697 1544.47 751.919 1545.03 Q754.141 1545.58 756.618 1545.58 Q760.623 1545.58 762.961 1543.48 Q765.299 1541.37 765.299 1537.76 Q765.299 1534.15 762.961 1532.04 Q760.623 1529.94 756.618 1529.94 Q754.743 1529.94 752.868 1530.35 Q751.016 1530.77 749.072 1531.65 L749.072 1514.29 Z\" fill=\"#000000\" fill-rule=\"evenodd\" fill-opacity=\"1\" /><path clip-path=\"url(#clip480)\" d=\"M1226.08 1544.91 L1242.4 1544.91 L1242.4 1548.85 L1220.45 1548.85 L1220.45 1544.91 Q1223.11 1542.16 1227.7 1537.53 Q1232.3 1532.88 1233.49 1531.53 Q1235.73 1529.01 1236.61 1527.27 Q1237.51 1525.51 1237.51 1523.82 Q1237.51 1521.07 1235.57 1519.33 Q1233.65 1517.6 1230.55 1517.6 Q1228.35 1517.6 1225.89 1518.36 Q1223.46 1519.13 1220.68 1520.68 L1220.68 1515.95 Q1223.51 1514.82 1225.96 1514.24 Q1228.42 1513.66 1230.45 1513.66 Q1235.82 1513.66 1239.02 1516.35 Q1242.21 1519.03 1242.21 1523.52 Q1242.21 1525.65 1241.4 1527.57 Q1240.61 1529.47 1238.51 1532.07 Q1237.93 1532.74 1234.83 1535.95 Q1231.73 1539.15 1226.08 1544.91 Z\" fill=\"#000000\" fill-rule=\"evenodd\" fill-opacity=\"1\" /><path clip-path=\"url(#clip480)\" d=\"M1252.21 1542.97 L1257.1 1542.97 L1257.1 1548.85 L1252.21 1548.85 L1252.21 1542.97 Z\" fill=\"#000000\" fill-rule=\"evenodd\" fill-opacity=\"1\" /><path clip-path=\"url(#clip480)\" d=\"M1277.28 1517.37 Q1273.67 1517.37 1271.84 1520.93 Q1270.04 1524.47 1270.04 1531.6 Q1270.04 1538.71 1271.84 1542.27 Q1273.67 1545.82 1277.28 1545.82 Q1280.92 1545.82 1282.72 1542.27 Q1284.55 1538.71 1284.55 1531.6 Q1284.55 1524.47 1282.72 1520.93 Q1280.92 1517.37 1277.28 1517.37 M1277.28 1513.66 Q1283.09 1513.66 1286.15 1518.27 Q1289.23 1522.85 1289.23 1531.6 Q1289.23 1540.33 1286.15 1544.94 Q1283.09 1549.52 1277.28 1549.52 Q1271.47 1549.52 1268.39 1544.94 Q1265.34 1540.33 1265.34 1531.6 Q1265.34 1522.85 1268.39 1518.27 Q1271.47 1513.66 1277.28 1513.66 Z\" fill=\"#000000\" fill-rule=\"evenodd\" fill-opacity=\"1\" /><path clip-path=\"url(#clip480)\" d=\"M1744.46 1544.91 L1760.78 1544.91 L1760.78 1548.85 L1738.84 1548.85 L1738.84 1544.91 Q1741.5 1542.16 1746.08 1537.53 Q1750.69 1532.88 1751.87 1531.53 Q1754.11 1529.01 1754.99 1527.27 Q1755.9 1525.51 1755.9 1523.82 Q1755.9 1521.07 1753.95 1519.33 Q1752.03 1517.6 1748.93 1517.6 Q1746.73 1517.6 1744.28 1518.36 Q1741.84 1519.13 1739.07 1520.68 L1739.07 1515.95 Q1741.89 1514.82 1744.34 1514.24 Q1746.8 1513.66 1748.84 1513.66 Q1754.21 1513.66 1757.4 1516.35 Q1760.59 1519.03 1760.59 1523.52 Q1760.59 1525.65 1759.78 1527.57 Q1759 1529.47 1756.89 1532.07 Q1756.31 1532.74 1753.21 1535.95 Q1750.11 1539.15 1744.46 1544.91 Z\" fill=\"#000000\" fill-rule=\"evenodd\" fill-opacity=\"1\" /><path clip-path=\"url(#clip480)\" d=\"M1770.59 1542.97 L1775.48 1542.97 L1775.48 1548.85 L1770.59 1548.85 L1770.59 1542.97 Z\" fill=\"#000000\" fill-rule=\"evenodd\" fill-opacity=\"1\" /><path clip-path=\"url(#clip480)\" d=\"M1785.71 1514.29 L1804.07 1514.29 L1804.07 1518.22 L1789.99 1518.22 L1789.99 1526.7 Q1791.01 1526.35 1792.03 1526.19 Q1793.05 1526 1794.07 1526 Q1799.85 1526 1803.23 1529.17 Q1806.61 1532.34 1806.61 1537.76 Q1806.61 1543.34 1803.14 1546.44 Q1799.67 1549.52 1793.35 1549.52 Q1791.17 1549.52 1788.9 1549.15 Q1786.66 1548.78 1784.25 1548.04 L1784.25 1543.34 Q1786.34 1544.47 1788.56 1545.03 Q1790.78 1545.58 1793.26 1545.58 Q1797.26 1545.58 1799.6 1543.48 Q1801.94 1541.37 1801.94 1537.76 Q1801.94 1534.15 1799.6 1532.04 Q1797.26 1529.94 1793.26 1529.94 Q1791.38 1529.94 1789.51 1530.35 Q1787.65 1530.77 1785.71 1531.65 L1785.71 1514.29 Z\" fill=\"#000000\" fill-rule=\"evenodd\" fill-opacity=\"1\" /><path clip-path=\"url(#clip480)\" d=\"M2271.92 1530.21 Q2275.27 1530.93 2277.15 1533.2 Q2279.05 1535.47 2279.05 1538.8 Q2279.05 1543.92 2275.53 1546.72 Q2272.01 1549.52 2265.53 1549.52 Q2263.35 1549.52 2261.04 1549.08 Q2258.75 1548.66 2256.29 1547.81 L2256.29 1543.29 Q2258.24 1544.43 2260.55 1545.01 Q2262.87 1545.58 2265.39 1545.58 Q2269.79 1545.58 2272.08 1543.85 Q2274.39 1542.11 2274.39 1538.8 Q2274.39 1535.75 2272.24 1534.03 Q2270.11 1532.3 2266.29 1532.3 L2262.26 1532.3 L2262.26 1528.45 L2266.48 1528.45 Q2269.93 1528.45 2271.76 1527.09 Q2273.58 1525.7 2273.58 1523.11 Q2273.58 1520.45 2271.69 1519.03 Q2269.81 1517.6 2266.29 1517.6 Q2264.37 1517.6 2262.17 1518.01 Q2259.97 1518.43 2257.33 1519.31 L2257.33 1515.14 Q2260 1514.4 2262.31 1514.03 Q2264.65 1513.66 2266.71 1513.66 Q2272.03 1513.66 2275.14 1516.09 Q2278.24 1518.5 2278.24 1522.62 Q2278.24 1525.49 2276.59 1527.48 Q2274.95 1529.45 2271.92 1530.21 Z\" fill=\"#000000\" fill-rule=\"evenodd\" fill-opacity=\"1\" /><path clip-path=\"url(#clip480)\" d=\"M2287.91 1542.97 L2292.8 1542.97 L2292.8 1548.85 L2287.91 1548.85 L2287.91 1542.97 Z\" fill=\"#000000\" fill-rule=\"evenodd\" fill-opacity=\"1\" /><path clip-path=\"url(#clip480)\" d=\"M2312.98 1517.37 Q2309.37 1517.37 2307.54 1520.93 Q2305.74 1524.47 2305.74 1531.6 Q2305.74 1538.71 2307.54 1542.27 Q2309.37 1545.82 2312.98 1545.82 Q2316.62 1545.82 2318.42 1542.27 Q2320.25 1538.71 2320.25 1531.6 Q2320.25 1524.47 2318.42 1520.93 Q2316.62 1517.37 2312.98 1517.37 M2312.98 1513.66 Q2318.79 1513.66 2321.85 1518.27 Q2324.93 1522.85 2324.93 1531.6 Q2324.93 1540.33 2321.85 1544.94 Q2318.79 1549.52 2312.98 1549.52 Q2307.17 1549.52 2304.09 1544.94 Q2301.04 1540.33 2301.04 1531.6 Q2301.04 1522.85 2304.09 1518.27 Q2307.17 1513.66 2312.98 1513.66 Z\" fill=\"#000000\" fill-rule=\"evenodd\" fill-opacity=\"1\" /><polyline clip-path=\"url(#clip482)\" style=\"stroke:#000000; stroke-linecap:round; stroke-linejoin:round; stroke-width:2; stroke-opacity:0.1; fill:none\" points=\"156.922,1445.72 2352.76,1445.72 \"/>\n",
       "<polyline clip-path=\"url(#clip482)\" style=\"stroke:#000000; stroke-linecap:round; stroke-linejoin:round; stroke-width:2; stroke-opacity:0.1; fill:none\" points=\"156.922,1106.28 2352.76,1106.28 \"/>\n",
       "<polyline clip-path=\"url(#clip482)\" style=\"stroke:#000000; stroke-linecap:round; stroke-linejoin:round; stroke-width:2; stroke-opacity:0.1; fill:none\" points=\"156.922,766.846 2352.76,766.846 \"/>\n",
       "<polyline clip-path=\"url(#clip482)\" style=\"stroke:#000000; stroke-linecap:round; stroke-linejoin:round; stroke-width:2; stroke-opacity:0.1; fill:none\" points=\"156.922,427.411 2352.76,427.411 \"/>\n",
       "<polyline clip-path=\"url(#clip482)\" style=\"stroke:#000000; stroke-linecap:round; stroke-linejoin:round; stroke-width:2; stroke-opacity:0.1; fill:none\" points=\"156.922,87.9763 2352.76,87.9763 \"/>\n",
       "<polyline clip-path=\"url(#clip480)\" style=\"stroke:#000000; stroke-linecap:round; stroke-linejoin:round; stroke-width:4; stroke-opacity:1; fill:none\" points=\"156.922,1486.45 156.922,47.2441 \"/>\n",
       "<polyline clip-path=\"url(#clip480)\" style=\"stroke:#000000; stroke-linecap:round; stroke-linejoin:round; stroke-width:4; stroke-opacity:1; fill:none\" points=\"156.922,1445.72 175.82,1445.72 \"/>\n",
       "<polyline clip-path=\"url(#clip480)\" style=\"stroke:#000000; stroke-linecap:round; stroke-linejoin:round; stroke-width:4; stroke-opacity:1; fill:none\" points=\"156.922,1106.28 175.82,1106.28 \"/>\n",
       "<polyline clip-path=\"url(#clip480)\" style=\"stroke:#000000; stroke-linecap:round; stroke-linejoin:round; stroke-width:4; stroke-opacity:1; fill:none\" points=\"156.922,766.846 175.82,766.846 \"/>\n",
       "<polyline clip-path=\"url(#clip480)\" style=\"stroke:#000000; stroke-linecap:round; stroke-linejoin:round; stroke-width:4; stroke-opacity:1; fill:none\" points=\"156.922,427.411 175.82,427.411 \"/>\n",
       "<polyline clip-path=\"url(#clip480)\" style=\"stroke:#000000; stroke-linecap:round; stroke-linejoin:round; stroke-width:4; stroke-opacity:1; fill:none\" points=\"156.922,87.9763 175.82,87.9763 \"/>\n",
       "<path clip-path=\"url(#clip480)\" d=\"M67.9133 1444.36 Q71.2698 1445.08 73.1448 1447.35 Q75.0429 1449.62 75.0429 1452.95 Q75.0429 1458.07 71.5244 1460.87 Q68.0059 1463.67 61.5245 1463.67 Q59.3486 1463.67 57.0338 1463.23 Q54.7421 1462.81 52.2884 1461.95 L52.2884 1457.44 Q54.2328 1458.57 56.5477 1459.15 Q58.8625 1459.73 61.3856 1459.73 Q65.7837 1459.73 68.0754 1458 Q70.3902 1456.26 70.3902 1452.95 Q70.3902 1449.89 68.2374 1448.18 Q66.1078 1446.44 62.2884 1446.44 L58.2606 1446.44 L58.2606 1442.6 L62.4735 1442.6 Q65.9226 1442.6 67.7513 1441.24 Q69.58 1439.85 69.58 1437.26 Q69.58 1434.59 67.6819 1433.18 Q65.8069 1431.75 62.2884 1431.75 Q60.3671 1431.75 58.168 1432.16 Q55.969 1432.58 53.3301 1433.46 L53.3301 1429.29 Q55.9921 1428.55 58.3069 1428.18 Q60.6449 1427.81 62.705 1427.81 Q68.0291 1427.81 71.1309 1430.24 Q74.2327 1432.65 74.2327 1436.77 Q74.2327 1439.64 72.5892 1441.63 Q70.9457 1443.6 67.9133 1444.36 Z\" fill=\"#000000\" fill-rule=\"evenodd\" fill-opacity=\"1\" /><path clip-path=\"url(#clip480)\" d=\"M83.9086 1457.12 L88.7928 1457.12 L88.7928 1463 L83.9086 1463 L83.9086 1457.12 Z\" fill=\"#000000\" fill-rule=\"evenodd\" fill-opacity=\"1\" /><path clip-path=\"url(#clip480)\" d=\"M108.978 1431.51 Q105.367 1431.51 103.538 1435.08 Q101.733 1438.62 101.733 1445.75 Q101.733 1452.86 103.538 1456.42 Q105.367 1459.96 108.978 1459.96 Q112.612 1459.96 114.418 1456.42 Q116.246 1452.86 116.246 1445.75 Q116.246 1438.62 114.418 1435.08 Q112.612 1431.51 108.978 1431.51 M108.978 1427.81 Q114.788 1427.81 117.844 1432.42 Q120.922 1437 120.922 1445.75 Q120.922 1454.48 117.844 1459.08 Q114.788 1463.67 108.978 1463.67 Q103.168 1463.67 100.089 1459.08 Q97.0335 1454.48 97.0335 1445.75 Q97.0335 1437 100.089 1432.42 Q103.168 1427.81 108.978 1427.81 Z\" fill=\"#000000\" fill-rule=\"evenodd\" fill-opacity=\"1\" /><path clip-path=\"url(#clip480)\" d=\"M68.9087 1104.93 Q72.2652 1105.64 74.1402 1107.91 Q76.0383 1110.18 76.0383 1113.51 Q76.0383 1118.63 72.5198 1121.43 Q69.0013 1124.23 62.5198 1124.23 Q60.3439 1124.23 58.0291 1123.79 Q55.7375 1123.38 53.2838 1122.52 L53.2838 1118.01 Q55.2282 1119.14 57.543 1119.72 Q59.8578 1120.3 62.381 1120.3 Q66.7791 1120.3 69.0707 1118.56 Q71.3855 1116.82 71.3855 1113.51 Q71.3855 1110.46 69.2328 1108.75 Q67.1032 1107.01 63.2837 1107.01 L59.256 1107.01 L59.256 1103.17 L63.4689 1103.17 Q66.918 1103.17 68.7467 1101.8 Q70.5754 1100.41 70.5754 1097.82 Q70.5754 1095.16 68.6772 1093.75 Q66.8022 1092.31 63.2837 1092.31 Q61.3624 1092.31 59.1634 1092.73 Q56.9643 1093.14 54.3254 1094.02 L54.3254 1089.86 Q56.9875 1089.12 59.3023 1088.75 Q61.6402 1088.38 63.7004 1088.38 Q69.0244 1088.38 72.1263 1090.81 Q75.2281 1093.21 75.2281 1097.33 Q75.2281 1100.2 73.5846 1102.2 Q71.9411 1104.16 68.9087 1104.93 Z\" fill=\"#000000\" fill-rule=\"evenodd\" fill-opacity=\"1\" /><path clip-path=\"url(#clip480)\" d=\"M84.904 1117.68 L89.7882 1117.68 L89.7882 1123.56 L84.904 1123.56 L84.904 1117.68 Z\" fill=\"#000000\" fill-rule=\"evenodd\" fill-opacity=\"1\" /><path clip-path=\"url(#clip480)\" d=\"M100.02 1089 L118.376 1089 L118.376 1092.94 L104.302 1092.94 L104.302 1101.41 Q105.321 1101.06 106.339 1100.9 Q107.358 1100.71 108.376 1100.71 Q114.163 1100.71 117.543 1103.89 Q120.922 1107.06 120.922 1112.47 Q120.922 1118.05 117.45 1121.15 Q113.978 1124.23 107.658 1124.23 Q105.483 1124.23 103.214 1123.86 Q100.969 1123.49 98.5613 1122.75 L98.5613 1118.05 Q100.645 1119.19 102.867 1119.74 Q105.089 1120.3 107.566 1120.3 Q111.571 1120.3 113.908 1118.19 Q116.246 1116.08 116.246 1112.47 Q116.246 1108.86 113.908 1106.76 Q111.571 1104.65 107.566 1104.65 Q105.691 1104.65 103.816 1105.07 Q101.964 1105.48 100.02 1106.36 L100.02 1089 Z\" fill=\"#000000\" fill-rule=\"evenodd\" fill-opacity=\"1\" /><path clip-path=\"url(#clip480)\" d=\"M66.5939 753.64 L54.7884 772.089 L66.5939 772.089 L66.5939 753.64 M65.367 749.566 L71.2466 749.566 L71.2466 772.089 L76.1772 772.089 L76.1772 775.978 L71.2466 775.978 L71.2466 784.126 L66.5939 784.126 L66.5939 775.978 L50.9921 775.978 L50.9921 771.464 L65.367 749.566 Z\" fill=\"#000000\" fill-rule=\"evenodd\" fill-opacity=\"1\" /><path clip-path=\"url(#clip480)\" d=\"M83.9086 778.246 L88.7928 778.246 L88.7928 784.126 L83.9086 784.126 L83.9086 778.246 Z\" fill=\"#000000\" fill-rule=\"evenodd\" fill-opacity=\"1\" /><path clip-path=\"url(#clip480)\" d=\"M108.978 752.645 Q105.367 752.645 103.538 756.209 Q101.733 759.751 101.733 766.881 Q101.733 773.987 103.538 777.552 Q105.367 781.094 108.978 781.094 Q112.612 781.094 114.418 777.552 Q116.246 773.987 116.246 766.881 Q116.246 759.751 114.418 756.209 Q112.612 752.645 108.978 752.645 M108.978 748.941 Q114.788 748.941 117.844 753.547 Q120.922 758.131 120.922 766.881 Q120.922 775.608 117.844 780.214 Q114.788 784.797 108.978 784.797 Q103.168 784.797 100.089 780.214 Q97.0335 775.608 97.0335 766.881 Q97.0335 758.131 100.089 753.547 Q103.168 748.941 108.978 748.941 Z\" fill=\"#000000\" fill-rule=\"evenodd\" fill-opacity=\"1\" /><path clip-path=\"url(#clip480)\" d=\"M67.5893 414.205 L55.7838 432.654 L67.5893 432.654 L67.5893 414.205 M66.3624 410.131 L72.242 410.131 L72.242 432.654 L77.1725 432.654 L77.1725 436.543 L72.242 436.543 L72.242 444.691 L67.5893 444.691 L67.5893 436.543 L51.9875 436.543 L51.9875 432.029 L66.3624 410.131 Z\" fill=\"#000000\" fill-rule=\"evenodd\" fill-opacity=\"1\" /><path clip-path=\"url(#clip480)\" d=\"M84.904 438.812 L89.7882 438.812 L89.7882 444.691 L84.904 444.691 L84.904 438.812 Z\" fill=\"#000000\" fill-rule=\"evenodd\" fill-opacity=\"1\" /><path clip-path=\"url(#clip480)\" d=\"M100.02 410.131 L118.376 410.131 L118.376 414.066 L104.302 414.066 L104.302 422.538 Q105.321 422.191 106.339 422.029 Q107.358 421.844 108.376 421.844 Q114.163 421.844 117.543 425.015 Q120.922 428.187 120.922 433.603 Q120.922 439.182 117.45 442.284 Q113.978 445.362 107.658 445.362 Q105.483 445.362 103.214 444.992 Q100.969 444.622 98.5613 443.881 L98.5613 439.182 Q100.645 440.316 102.867 440.872 Q105.089 441.427 107.566 441.427 Q111.571 441.427 113.908 439.321 Q116.246 437.214 116.246 433.603 Q116.246 429.992 113.908 427.886 Q111.571 425.779 107.566 425.779 Q105.691 425.779 103.816 426.196 Q101.964 426.613 100.02 427.492 L100.02 410.131 Z\" fill=\"#000000\" fill-rule=\"evenodd\" fill-opacity=\"1\" /><path clip-path=\"url(#clip480)\" d=\"M53.793 70.6963 L72.1494 70.6963 L72.1494 74.6314 L58.0754 74.6314 L58.0754 83.1036 Q59.0939 82.7564 60.1124 82.5944 Q61.131 82.4092 62.1495 82.4092 Q67.9365 82.4092 71.3161 85.5805 Q74.6957 88.7517 74.6957 94.1684 Q74.6957 99.747 71.2235 102.849 Q67.7513 105.928 61.4319 105.928 Q59.256 105.928 56.9875 105.557 Q54.7421 105.187 52.3347 104.446 L52.3347 99.747 Q54.418 100.881 56.6402 101.437 Q58.8625 101.992 61.3393 101.992 Q65.3439 101.992 67.6819 99.8859 Q70.0198 97.7795 70.0198 94.1684 Q70.0198 90.5573 67.6819 88.4508 Q65.3439 86.3443 61.3393 86.3443 Q59.4643 86.3443 57.5893 86.761 Q55.7375 87.1777 53.793 88.0573 L53.793 70.6963 Z\" fill=\"#000000\" fill-rule=\"evenodd\" fill-opacity=\"1\" /><path clip-path=\"url(#clip480)\" d=\"M83.9086 99.3767 L88.7928 99.3767 L88.7928 105.256 L83.9086 105.256 L83.9086 99.3767 Z\" fill=\"#000000\" fill-rule=\"evenodd\" fill-opacity=\"1\" /><path clip-path=\"url(#clip480)\" d=\"M108.978 73.775 Q105.367 73.775 103.538 77.3398 Q101.733 80.8814 101.733 88.011 Q101.733 95.1174 103.538 98.6822 Q105.367 102.224 108.978 102.224 Q112.612 102.224 114.418 98.6822 Q116.246 95.1174 116.246 88.011 Q116.246 80.8814 114.418 77.3398 Q112.612 73.775 108.978 73.775 M108.978 70.0713 Q114.788 70.0713 117.844 74.6777 Q120.922 79.261 120.922 88.011 Q120.922 96.7378 117.844 101.344 Q114.788 105.928 108.978 105.928 Q103.168 105.928 100.089 101.344 Q97.0335 96.7378 97.0335 88.011 Q97.0335 79.261 100.089 74.6777 Q103.168 70.0713 108.978 70.0713 Z\" fill=\"#000000\" fill-rule=\"evenodd\" fill-opacity=\"1\" /><polyline clip-path=\"url(#clip482)\" style=\"stroke:#009af9; stroke-linecap:round; stroke-linejoin:round; stroke-width:4; stroke-opacity:1; fill:none\" points=\"219.069,1445.72 1254.84,766.846 2290.61,87.9763 \"/>\n",
       "<path clip-path=\"url(#clip480)\" d=\"M230.117 198.898 L502.13 198.898 L502.13 95.2176 L230.117 95.2176  Z\" fill=\"#ffffff\" fill-rule=\"evenodd\" fill-opacity=\"1\"/>\n",
       "<polyline clip-path=\"url(#clip480)\" style=\"stroke:#000000; stroke-linecap:round; stroke-linejoin:round; stroke-width:4; stroke-opacity:1; fill:none\" points=\"230.117,198.898 502.13,198.898 502.13,95.2176 230.117,95.2176 230.117,198.898 \"/>\n",
       "<polyline clip-path=\"url(#clip480)\" style=\"stroke:#009af9; stroke-linecap:round; stroke-linejoin:round; stroke-width:4; stroke-opacity:1; fill:none\" points=\"254.515,147.058 400.904,147.058 \"/>\n",
       "<path clip-path=\"url(#clip480)\" d=\"M439.144 166.745 Q437.339 171.375 435.626 172.787 Q433.913 174.199 431.043 174.199 L427.64 174.199 L427.64 170.634 L430.14 170.634 Q431.899 170.634 432.871 169.8 Q433.844 168.967 435.024 165.865 L435.788 163.921 L425.302 138.412 L429.816 138.412 L437.918 158.689 L446.019 138.412 L450.533 138.412 L439.144 166.745 Z\" fill=\"#000000\" fill-rule=\"evenodd\" fill-opacity=\"1\" /><path clip-path=\"url(#clip480)\" d=\"M457.825 160.402 L465.464 160.402 L465.464 134.037 L457.154 135.703 L457.154 131.444 L465.417 129.778 L470.093 129.778 L470.093 160.402 L477.732 160.402 L477.732 164.338 L457.825 164.338 L457.825 160.402 Z\" fill=\"#000000\" fill-rule=\"evenodd\" fill-opacity=\"1\" /></svg>\n"
      ],
      "text/html": [
       "<?xml version=\"1.0\" encoding=\"utf-8\"?>\n",
       "<svg xmlns=\"http://www.w3.org/2000/svg\" xmlns:xlink=\"http://www.w3.org/1999/xlink\" width=\"600\" height=\"400\" viewBox=\"0 0 2400 1600\">\n",
       "<defs>\n",
       "  <clipPath id=\"clip530\">\n",
       "    <rect x=\"0\" y=\"0\" width=\"2400\" height=\"1600\"/>\n",
       "  </clipPath>\n",
       "</defs>\n",
       "<path clip-path=\"url(#clip530)\" d=\"M0 1600 L2400 1600 L2400 0 L0 0  Z\" fill=\"#ffffff\" fill-rule=\"evenodd\" fill-opacity=\"1\"/>\n",
       "<defs>\n",
       "  <clipPath id=\"clip531\">\n",
       "    <rect x=\"480\" y=\"0\" width=\"1681\" height=\"1600\"/>\n",
       "  </clipPath>\n",
       "</defs>\n",
       "<path clip-path=\"url(#clip530)\" d=\"M156.922 1486.45 L2352.76 1486.45 L2352.76 47.2441 L156.922 47.2441  Z\" fill=\"#ffffff\" fill-rule=\"evenodd\" fill-opacity=\"1\"/>\n",
       "<defs>\n",
       "  <clipPath id=\"clip532\">\n",
       "    <rect x=\"156\" y=\"47\" width=\"2197\" height=\"1440\"/>\n",
       "  </clipPath>\n",
       "</defs>\n",
       "<polyline clip-path=\"url(#clip532)\" style=\"stroke:#000000; stroke-linecap:round; stroke-linejoin:round; stroke-width:2; stroke-opacity:0.1; fill:none\" points=\"219.069,1486.45 219.069,47.2441 \"/>\n",
       "<polyline clip-path=\"url(#clip532)\" style=\"stroke:#000000; stroke-linecap:round; stroke-linejoin:round; stroke-width:2; stroke-opacity:0.1; fill:none\" points=\"736.954,1486.45 736.954,47.2441 \"/>\n",
       "<polyline clip-path=\"url(#clip532)\" style=\"stroke:#000000; stroke-linecap:round; stroke-linejoin:round; stroke-width:2; stroke-opacity:0.1; fill:none\" points=\"1254.84,1486.45 1254.84,47.2441 \"/>\n",
       "<polyline clip-path=\"url(#clip532)\" style=\"stroke:#000000; stroke-linecap:round; stroke-linejoin:round; stroke-width:2; stroke-opacity:0.1; fill:none\" points=\"1772.72,1486.45 1772.72,47.2441 \"/>\n",
       "<polyline clip-path=\"url(#clip532)\" style=\"stroke:#000000; stroke-linecap:round; stroke-linejoin:round; stroke-width:2; stroke-opacity:0.1; fill:none\" points=\"2290.61,1486.45 2290.61,47.2441 \"/>\n",
       "<polyline clip-path=\"url(#clip530)\" style=\"stroke:#000000; stroke-linecap:round; stroke-linejoin:round; stroke-width:4; stroke-opacity:1; fill:none\" points=\"156.922,1486.45 2352.76,1486.45 \"/>\n",
       "<polyline clip-path=\"url(#clip530)\" style=\"stroke:#000000; stroke-linecap:round; stroke-linejoin:round; stroke-width:4; stroke-opacity:1; fill:none\" points=\"219.069,1486.45 219.069,1467.55 \"/>\n",
       "<polyline clip-path=\"url(#clip530)\" style=\"stroke:#000000; stroke-linecap:round; stroke-linejoin:round; stroke-width:4; stroke-opacity:1; fill:none\" points=\"736.954,1486.45 736.954,1467.55 \"/>\n",
       "<polyline clip-path=\"url(#clip530)\" style=\"stroke:#000000; stroke-linecap:round; stroke-linejoin:round; stroke-width:4; stroke-opacity:1; fill:none\" points=\"1254.84,1486.45 1254.84,1467.55 \"/>\n",
       "<polyline clip-path=\"url(#clip530)\" style=\"stroke:#000000; stroke-linecap:round; stroke-linejoin:round; stroke-width:4; stroke-opacity:1; fill:none\" points=\"1772.72,1486.45 1772.72,1467.55 \"/>\n",
       "<polyline clip-path=\"url(#clip530)\" style=\"stroke:#000000; stroke-linecap:round; stroke-linejoin:round; stroke-width:4; stroke-opacity:1; fill:none\" points=\"2290.61,1486.45 2290.61,1467.55 \"/>\n",
       "<path clip-path=\"url(#clip530)\" d=\"M186.221 1544.91 L193.86 1544.91 L193.86 1518.55 L185.55 1520.21 L185.55 1515.95 L193.814 1514.29 L198.49 1514.29 L198.49 1544.91 L206.129 1544.91 L206.129 1548.85 L186.221 1548.85 L186.221 1544.91 Z\" fill=\"#000000\" fill-rule=\"evenodd\" fill-opacity=\"1\" /><path clip-path=\"url(#clip530)\" d=\"M215.573 1542.97 L220.457 1542.97 L220.457 1548.85 L215.573 1548.85 L215.573 1542.97 Z\" fill=\"#000000\" fill-rule=\"evenodd\" fill-opacity=\"1\" /><path clip-path=\"url(#clip530)\" d=\"M240.642 1517.37 Q237.031 1517.37 235.203 1520.93 Q233.397 1524.47 233.397 1531.6 Q233.397 1538.71 235.203 1542.27 Q237.031 1545.82 240.642 1545.82 Q244.277 1545.82 246.082 1542.27 Q247.911 1538.71 247.911 1531.6 Q247.911 1524.47 246.082 1520.93 Q244.277 1517.37 240.642 1517.37 M240.642 1513.66 Q246.453 1513.66 249.508 1518.27 Q252.587 1522.85 252.587 1531.6 Q252.587 1540.33 249.508 1544.94 Q246.453 1549.52 240.642 1549.52 Q234.832 1549.52 231.754 1544.94 Q228.698 1540.33 228.698 1531.6 Q228.698 1522.85 231.754 1518.27 Q234.832 1513.66 240.642 1513.66 Z\" fill=\"#000000\" fill-rule=\"evenodd\" fill-opacity=\"1\" /><path clip-path=\"url(#clip530)\" d=\"M704.604 1544.91 L712.243 1544.91 L712.243 1518.55 L703.933 1520.21 L703.933 1515.95 L712.197 1514.29 L716.873 1514.29 L716.873 1544.91 L724.512 1544.91 L724.512 1548.85 L704.604 1548.85 L704.604 1544.91 Z\" fill=\"#000000\" fill-rule=\"evenodd\" fill-opacity=\"1\" /><path clip-path=\"url(#clip530)\" d=\"M733.956 1542.97 L738.84 1542.97 L738.84 1548.85 L733.956 1548.85 L733.956 1542.97 Z\" fill=\"#000000\" fill-rule=\"evenodd\" fill-opacity=\"1\" /><path clip-path=\"url(#clip530)\" d=\"M749.072 1514.29 L767.428 1514.29 L767.428 1518.22 L753.354 1518.22 L753.354 1526.7 Q754.373 1526.35 755.391 1526.19 Q756.41 1526 757.428 1526 Q763.215 1526 766.595 1529.17 Q769.974 1532.34 769.974 1537.76 Q769.974 1543.34 766.502 1546.44 Q763.03 1549.52 756.711 1549.52 Q754.535 1549.52 752.266 1549.15 Q750.021 1548.78 747.613 1548.04 L747.613 1543.34 Q749.697 1544.47 751.919 1545.03 Q754.141 1545.58 756.618 1545.58 Q760.623 1545.58 762.961 1543.48 Q765.299 1541.37 765.299 1537.76 Q765.299 1534.15 762.961 1532.04 Q760.623 1529.94 756.618 1529.94 Q754.743 1529.94 752.868 1530.35 Q751.016 1530.77 749.072 1531.65 L749.072 1514.29 Z\" fill=\"#000000\" fill-rule=\"evenodd\" fill-opacity=\"1\" /><path clip-path=\"url(#clip530)\" d=\"M1226.08 1544.91 L1242.4 1544.91 L1242.4 1548.85 L1220.45 1548.85 L1220.45 1544.91 Q1223.11 1542.16 1227.7 1537.53 Q1232.3 1532.88 1233.49 1531.53 Q1235.73 1529.01 1236.61 1527.27 Q1237.51 1525.51 1237.51 1523.82 Q1237.51 1521.07 1235.57 1519.33 Q1233.65 1517.6 1230.55 1517.6 Q1228.35 1517.6 1225.89 1518.36 Q1223.46 1519.13 1220.68 1520.68 L1220.68 1515.95 Q1223.51 1514.82 1225.96 1514.24 Q1228.42 1513.66 1230.45 1513.66 Q1235.82 1513.66 1239.02 1516.35 Q1242.21 1519.03 1242.21 1523.52 Q1242.21 1525.65 1241.4 1527.57 Q1240.61 1529.47 1238.51 1532.07 Q1237.93 1532.74 1234.83 1535.95 Q1231.73 1539.15 1226.08 1544.91 Z\" fill=\"#000000\" fill-rule=\"evenodd\" fill-opacity=\"1\" /><path clip-path=\"url(#clip530)\" d=\"M1252.21 1542.97 L1257.1 1542.97 L1257.1 1548.85 L1252.21 1548.85 L1252.21 1542.97 Z\" fill=\"#000000\" fill-rule=\"evenodd\" fill-opacity=\"1\" /><path clip-path=\"url(#clip530)\" d=\"M1277.28 1517.37 Q1273.67 1517.37 1271.84 1520.93 Q1270.04 1524.47 1270.04 1531.6 Q1270.04 1538.71 1271.84 1542.27 Q1273.67 1545.82 1277.28 1545.82 Q1280.92 1545.82 1282.72 1542.27 Q1284.55 1538.71 1284.55 1531.6 Q1284.55 1524.47 1282.72 1520.93 Q1280.92 1517.37 1277.28 1517.37 M1277.28 1513.66 Q1283.09 1513.66 1286.15 1518.27 Q1289.23 1522.85 1289.23 1531.6 Q1289.23 1540.33 1286.15 1544.94 Q1283.09 1549.52 1277.28 1549.52 Q1271.47 1549.52 1268.39 1544.94 Q1265.34 1540.33 1265.34 1531.6 Q1265.34 1522.85 1268.39 1518.27 Q1271.47 1513.66 1277.28 1513.66 Z\" fill=\"#000000\" fill-rule=\"evenodd\" fill-opacity=\"1\" /><path clip-path=\"url(#clip530)\" d=\"M1744.46 1544.91 L1760.78 1544.91 L1760.78 1548.85 L1738.84 1548.85 L1738.84 1544.91 Q1741.5 1542.16 1746.08 1537.53 Q1750.69 1532.88 1751.87 1531.53 Q1754.11 1529.01 1754.99 1527.27 Q1755.9 1525.51 1755.9 1523.82 Q1755.9 1521.07 1753.95 1519.33 Q1752.03 1517.6 1748.93 1517.6 Q1746.73 1517.6 1744.28 1518.36 Q1741.84 1519.13 1739.07 1520.68 L1739.07 1515.95 Q1741.89 1514.82 1744.34 1514.24 Q1746.8 1513.66 1748.84 1513.66 Q1754.21 1513.66 1757.4 1516.35 Q1760.59 1519.03 1760.59 1523.52 Q1760.59 1525.65 1759.78 1527.57 Q1759 1529.47 1756.89 1532.07 Q1756.31 1532.74 1753.21 1535.95 Q1750.11 1539.15 1744.46 1544.91 Z\" fill=\"#000000\" fill-rule=\"evenodd\" fill-opacity=\"1\" /><path clip-path=\"url(#clip530)\" d=\"M1770.59 1542.97 L1775.48 1542.97 L1775.48 1548.85 L1770.59 1548.85 L1770.59 1542.97 Z\" fill=\"#000000\" fill-rule=\"evenodd\" fill-opacity=\"1\" /><path clip-path=\"url(#clip530)\" d=\"M1785.71 1514.29 L1804.07 1514.29 L1804.07 1518.22 L1789.99 1518.22 L1789.99 1526.7 Q1791.01 1526.35 1792.03 1526.19 Q1793.05 1526 1794.07 1526 Q1799.85 1526 1803.23 1529.17 Q1806.61 1532.34 1806.61 1537.76 Q1806.61 1543.34 1803.14 1546.44 Q1799.67 1549.52 1793.35 1549.52 Q1791.17 1549.52 1788.9 1549.15 Q1786.66 1548.78 1784.25 1548.04 L1784.25 1543.34 Q1786.34 1544.47 1788.56 1545.03 Q1790.78 1545.58 1793.26 1545.58 Q1797.26 1545.58 1799.6 1543.48 Q1801.94 1541.37 1801.94 1537.76 Q1801.94 1534.15 1799.6 1532.04 Q1797.26 1529.94 1793.26 1529.94 Q1791.38 1529.94 1789.51 1530.35 Q1787.65 1530.77 1785.71 1531.65 L1785.71 1514.29 Z\" fill=\"#000000\" fill-rule=\"evenodd\" fill-opacity=\"1\" /><path clip-path=\"url(#clip530)\" d=\"M2271.92 1530.21 Q2275.27 1530.93 2277.15 1533.2 Q2279.05 1535.47 2279.05 1538.8 Q2279.05 1543.92 2275.53 1546.72 Q2272.01 1549.52 2265.53 1549.52 Q2263.35 1549.52 2261.04 1549.08 Q2258.75 1548.66 2256.29 1547.81 L2256.29 1543.29 Q2258.24 1544.43 2260.55 1545.01 Q2262.87 1545.58 2265.39 1545.58 Q2269.79 1545.58 2272.08 1543.85 Q2274.39 1542.11 2274.39 1538.8 Q2274.39 1535.75 2272.24 1534.03 Q2270.11 1532.3 2266.29 1532.3 L2262.26 1532.3 L2262.26 1528.45 L2266.48 1528.45 Q2269.93 1528.45 2271.76 1527.09 Q2273.58 1525.7 2273.58 1523.11 Q2273.58 1520.45 2271.69 1519.03 Q2269.81 1517.6 2266.29 1517.6 Q2264.37 1517.6 2262.17 1518.01 Q2259.97 1518.43 2257.33 1519.31 L2257.33 1515.14 Q2260 1514.4 2262.31 1514.03 Q2264.65 1513.66 2266.71 1513.66 Q2272.03 1513.66 2275.14 1516.09 Q2278.24 1518.5 2278.24 1522.62 Q2278.24 1525.49 2276.59 1527.48 Q2274.95 1529.45 2271.92 1530.21 Z\" fill=\"#000000\" fill-rule=\"evenodd\" fill-opacity=\"1\" /><path clip-path=\"url(#clip530)\" d=\"M2287.91 1542.97 L2292.8 1542.97 L2292.8 1548.85 L2287.91 1548.85 L2287.91 1542.97 Z\" fill=\"#000000\" fill-rule=\"evenodd\" fill-opacity=\"1\" /><path clip-path=\"url(#clip530)\" d=\"M2312.98 1517.37 Q2309.37 1517.37 2307.54 1520.93 Q2305.74 1524.47 2305.74 1531.6 Q2305.74 1538.71 2307.54 1542.27 Q2309.37 1545.82 2312.98 1545.82 Q2316.62 1545.82 2318.42 1542.27 Q2320.25 1538.71 2320.25 1531.6 Q2320.25 1524.47 2318.42 1520.93 Q2316.62 1517.37 2312.98 1517.37 M2312.98 1513.66 Q2318.79 1513.66 2321.85 1518.27 Q2324.93 1522.85 2324.93 1531.6 Q2324.93 1540.33 2321.85 1544.94 Q2318.79 1549.52 2312.98 1549.52 Q2307.17 1549.52 2304.09 1544.94 Q2301.04 1540.33 2301.04 1531.6 Q2301.04 1522.85 2304.09 1518.27 Q2307.17 1513.66 2312.98 1513.66 Z\" fill=\"#000000\" fill-rule=\"evenodd\" fill-opacity=\"1\" /><polyline clip-path=\"url(#clip532)\" style=\"stroke:#000000; stroke-linecap:round; stroke-linejoin:round; stroke-width:2; stroke-opacity:0.1; fill:none\" points=\"156.922,1445.72 2352.76,1445.72 \"/>\n",
       "<polyline clip-path=\"url(#clip532)\" style=\"stroke:#000000; stroke-linecap:round; stroke-linejoin:round; stroke-width:2; stroke-opacity:0.1; fill:none\" points=\"156.922,1106.28 2352.76,1106.28 \"/>\n",
       "<polyline clip-path=\"url(#clip532)\" style=\"stroke:#000000; stroke-linecap:round; stroke-linejoin:round; stroke-width:2; stroke-opacity:0.1; fill:none\" points=\"156.922,766.846 2352.76,766.846 \"/>\n",
       "<polyline clip-path=\"url(#clip532)\" style=\"stroke:#000000; stroke-linecap:round; stroke-linejoin:round; stroke-width:2; stroke-opacity:0.1; fill:none\" points=\"156.922,427.411 2352.76,427.411 \"/>\n",
       "<polyline clip-path=\"url(#clip532)\" style=\"stroke:#000000; stroke-linecap:round; stroke-linejoin:round; stroke-width:2; stroke-opacity:0.1; fill:none\" points=\"156.922,87.9763 2352.76,87.9763 \"/>\n",
       "<polyline clip-path=\"url(#clip530)\" style=\"stroke:#000000; stroke-linecap:round; stroke-linejoin:round; stroke-width:4; stroke-opacity:1; fill:none\" points=\"156.922,1486.45 156.922,47.2441 \"/>\n",
       "<polyline clip-path=\"url(#clip530)\" style=\"stroke:#000000; stroke-linecap:round; stroke-linejoin:round; stroke-width:4; stroke-opacity:1; fill:none\" points=\"156.922,1445.72 175.82,1445.72 \"/>\n",
       "<polyline clip-path=\"url(#clip530)\" style=\"stroke:#000000; stroke-linecap:round; stroke-linejoin:round; stroke-width:4; stroke-opacity:1; fill:none\" points=\"156.922,1106.28 175.82,1106.28 \"/>\n",
       "<polyline clip-path=\"url(#clip530)\" style=\"stroke:#000000; stroke-linecap:round; stroke-linejoin:round; stroke-width:4; stroke-opacity:1; fill:none\" points=\"156.922,766.846 175.82,766.846 \"/>\n",
       "<polyline clip-path=\"url(#clip530)\" style=\"stroke:#000000; stroke-linecap:round; stroke-linejoin:round; stroke-width:4; stroke-opacity:1; fill:none\" points=\"156.922,427.411 175.82,427.411 \"/>\n",
       "<polyline clip-path=\"url(#clip530)\" style=\"stroke:#000000; stroke-linecap:round; stroke-linejoin:round; stroke-width:4; stroke-opacity:1; fill:none\" points=\"156.922,87.9763 175.82,87.9763 \"/>\n",
       "<path clip-path=\"url(#clip530)\" d=\"M67.9133 1444.36 Q71.2698 1445.08 73.1448 1447.35 Q75.0429 1449.62 75.0429 1452.95 Q75.0429 1458.07 71.5244 1460.87 Q68.0059 1463.67 61.5245 1463.67 Q59.3486 1463.67 57.0338 1463.23 Q54.7421 1462.81 52.2884 1461.95 L52.2884 1457.44 Q54.2328 1458.57 56.5477 1459.15 Q58.8625 1459.73 61.3856 1459.73 Q65.7837 1459.73 68.0754 1458 Q70.3902 1456.26 70.3902 1452.95 Q70.3902 1449.89 68.2374 1448.18 Q66.1078 1446.44 62.2884 1446.44 L58.2606 1446.44 L58.2606 1442.6 L62.4735 1442.6 Q65.9226 1442.6 67.7513 1441.24 Q69.58 1439.85 69.58 1437.26 Q69.58 1434.59 67.6819 1433.18 Q65.8069 1431.75 62.2884 1431.75 Q60.3671 1431.75 58.168 1432.16 Q55.969 1432.58 53.3301 1433.46 L53.3301 1429.29 Q55.9921 1428.55 58.3069 1428.18 Q60.6449 1427.81 62.705 1427.81 Q68.0291 1427.81 71.1309 1430.24 Q74.2327 1432.65 74.2327 1436.77 Q74.2327 1439.64 72.5892 1441.63 Q70.9457 1443.6 67.9133 1444.36 Z\" fill=\"#000000\" fill-rule=\"evenodd\" fill-opacity=\"1\" /><path clip-path=\"url(#clip530)\" d=\"M83.9086 1457.12 L88.7928 1457.12 L88.7928 1463 L83.9086 1463 L83.9086 1457.12 Z\" fill=\"#000000\" fill-rule=\"evenodd\" fill-opacity=\"1\" /><path clip-path=\"url(#clip530)\" d=\"M108.978 1431.51 Q105.367 1431.51 103.538 1435.08 Q101.733 1438.62 101.733 1445.75 Q101.733 1452.86 103.538 1456.42 Q105.367 1459.96 108.978 1459.96 Q112.612 1459.96 114.418 1456.42 Q116.246 1452.86 116.246 1445.75 Q116.246 1438.62 114.418 1435.08 Q112.612 1431.51 108.978 1431.51 M108.978 1427.81 Q114.788 1427.81 117.844 1432.42 Q120.922 1437 120.922 1445.75 Q120.922 1454.48 117.844 1459.08 Q114.788 1463.67 108.978 1463.67 Q103.168 1463.67 100.089 1459.08 Q97.0335 1454.48 97.0335 1445.75 Q97.0335 1437 100.089 1432.42 Q103.168 1427.81 108.978 1427.81 Z\" fill=\"#000000\" fill-rule=\"evenodd\" fill-opacity=\"1\" /><path clip-path=\"url(#clip530)\" d=\"M68.9087 1104.93 Q72.2652 1105.64 74.1402 1107.91 Q76.0383 1110.18 76.0383 1113.51 Q76.0383 1118.63 72.5198 1121.43 Q69.0013 1124.23 62.5198 1124.23 Q60.3439 1124.23 58.0291 1123.79 Q55.7375 1123.38 53.2838 1122.52 L53.2838 1118.01 Q55.2282 1119.14 57.543 1119.72 Q59.8578 1120.3 62.381 1120.3 Q66.7791 1120.3 69.0707 1118.56 Q71.3855 1116.82 71.3855 1113.51 Q71.3855 1110.46 69.2328 1108.75 Q67.1032 1107.01 63.2837 1107.01 L59.256 1107.01 L59.256 1103.17 L63.4689 1103.17 Q66.918 1103.17 68.7467 1101.8 Q70.5754 1100.41 70.5754 1097.82 Q70.5754 1095.16 68.6772 1093.75 Q66.8022 1092.31 63.2837 1092.31 Q61.3624 1092.31 59.1634 1092.73 Q56.9643 1093.14 54.3254 1094.02 L54.3254 1089.86 Q56.9875 1089.12 59.3023 1088.75 Q61.6402 1088.38 63.7004 1088.38 Q69.0244 1088.38 72.1263 1090.81 Q75.2281 1093.21 75.2281 1097.33 Q75.2281 1100.2 73.5846 1102.2 Q71.9411 1104.16 68.9087 1104.93 Z\" fill=\"#000000\" fill-rule=\"evenodd\" fill-opacity=\"1\" /><path clip-path=\"url(#clip530)\" d=\"M84.904 1117.68 L89.7882 1117.68 L89.7882 1123.56 L84.904 1123.56 L84.904 1117.68 Z\" fill=\"#000000\" fill-rule=\"evenodd\" fill-opacity=\"1\" /><path clip-path=\"url(#clip530)\" d=\"M100.02 1089 L118.376 1089 L118.376 1092.94 L104.302 1092.94 L104.302 1101.41 Q105.321 1101.06 106.339 1100.9 Q107.358 1100.71 108.376 1100.71 Q114.163 1100.71 117.543 1103.89 Q120.922 1107.06 120.922 1112.47 Q120.922 1118.05 117.45 1121.15 Q113.978 1124.23 107.658 1124.23 Q105.483 1124.23 103.214 1123.86 Q100.969 1123.49 98.5613 1122.75 L98.5613 1118.05 Q100.645 1119.19 102.867 1119.74 Q105.089 1120.3 107.566 1120.3 Q111.571 1120.3 113.908 1118.19 Q116.246 1116.08 116.246 1112.47 Q116.246 1108.86 113.908 1106.76 Q111.571 1104.65 107.566 1104.65 Q105.691 1104.65 103.816 1105.07 Q101.964 1105.48 100.02 1106.36 L100.02 1089 Z\" fill=\"#000000\" fill-rule=\"evenodd\" fill-opacity=\"1\" /><path clip-path=\"url(#clip530)\" d=\"M66.5939 753.64 L54.7884 772.089 L66.5939 772.089 L66.5939 753.64 M65.367 749.566 L71.2466 749.566 L71.2466 772.089 L76.1772 772.089 L76.1772 775.978 L71.2466 775.978 L71.2466 784.126 L66.5939 784.126 L66.5939 775.978 L50.9921 775.978 L50.9921 771.464 L65.367 749.566 Z\" fill=\"#000000\" fill-rule=\"evenodd\" fill-opacity=\"1\" /><path clip-path=\"url(#clip530)\" d=\"M83.9086 778.246 L88.7928 778.246 L88.7928 784.126 L83.9086 784.126 L83.9086 778.246 Z\" fill=\"#000000\" fill-rule=\"evenodd\" fill-opacity=\"1\" /><path clip-path=\"url(#clip530)\" d=\"M108.978 752.645 Q105.367 752.645 103.538 756.209 Q101.733 759.751 101.733 766.881 Q101.733 773.987 103.538 777.552 Q105.367 781.094 108.978 781.094 Q112.612 781.094 114.418 777.552 Q116.246 773.987 116.246 766.881 Q116.246 759.751 114.418 756.209 Q112.612 752.645 108.978 752.645 M108.978 748.941 Q114.788 748.941 117.844 753.547 Q120.922 758.131 120.922 766.881 Q120.922 775.608 117.844 780.214 Q114.788 784.797 108.978 784.797 Q103.168 784.797 100.089 780.214 Q97.0335 775.608 97.0335 766.881 Q97.0335 758.131 100.089 753.547 Q103.168 748.941 108.978 748.941 Z\" fill=\"#000000\" fill-rule=\"evenodd\" fill-opacity=\"1\" /><path clip-path=\"url(#clip530)\" d=\"M67.5893 414.205 L55.7838 432.654 L67.5893 432.654 L67.5893 414.205 M66.3624 410.131 L72.242 410.131 L72.242 432.654 L77.1725 432.654 L77.1725 436.543 L72.242 436.543 L72.242 444.691 L67.5893 444.691 L67.5893 436.543 L51.9875 436.543 L51.9875 432.029 L66.3624 410.131 Z\" fill=\"#000000\" fill-rule=\"evenodd\" fill-opacity=\"1\" /><path clip-path=\"url(#clip530)\" d=\"M84.904 438.812 L89.7882 438.812 L89.7882 444.691 L84.904 444.691 L84.904 438.812 Z\" fill=\"#000000\" fill-rule=\"evenodd\" fill-opacity=\"1\" /><path clip-path=\"url(#clip530)\" d=\"M100.02 410.131 L118.376 410.131 L118.376 414.066 L104.302 414.066 L104.302 422.538 Q105.321 422.191 106.339 422.029 Q107.358 421.844 108.376 421.844 Q114.163 421.844 117.543 425.015 Q120.922 428.187 120.922 433.603 Q120.922 439.182 117.45 442.284 Q113.978 445.362 107.658 445.362 Q105.483 445.362 103.214 444.992 Q100.969 444.622 98.5613 443.881 L98.5613 439.182 Q100.645 440.316 102.867 440.872 Q105.089 441.427 107.566 441.427 Q111.571 441.427 113.908 439.321 Q116.246 437.214 116.246 433.603 Q116.246 429.992 113.908 427.886 Q111.571 425.779 107.566 425.779 Q105.691 425.779 103.816 426.196 Q101.964 426.613 100.02 427.492 L100.02 410.131 Z\" fill=\"#000000\" fill-rule=\"evenodd\" fill-opacity=\"1\" /><path clip-path=\"url(#clip530)\" d=\"M53.793 70.6963 L72.1494 70.6963 L72.1494 74.6314 L58.0754 74.6314 L58.0754 83.1036 Q59.0939 82.7564 60.1124 82.5944 Q61.131 82.4092 62.1495 82.4092 Q67.9365 82.4092 71.3161 85.5805 Q74.6957 88.7517 74.6957 94.1684 Q74.6957 99.747 71.2235 102.849 Q67.7513 105.928 61.4319 105.928 Q59.256 105.928 56.9875 105.557 Q54.7421 105.187 52.3347 104.446 L52.3347 99.747 Q54.418 100.881 56.6402 101.437 Q58.8625 101.992 61.3393 101.992 Q65.3439 101.992 67.6819 99.8859 Q70.0198 97.7795 70.0198 94.1684 Q70.0198 90.5573 67.6819 88.4508 Q65.3439 86.3443 61.3393 86.3443 Q59.4643 86.3443 57.5893 86.761 Q55.7375 87.1777 53.793 88.0573 L53.793 70.6963 Z\" fill=\"#000000\" fill-rule=\"evenodd\" fill-opacity=\"1\" /><path clip-path=\"url(#clip530)\" d=\"M83.9086 99.3767 L88.7928 99.3767 L88.7928 105.256 L83.9086 105.256 L83.9086 99.3767 Z\" fill=\"#000000\" fill-rule=\"evenodd\" fill-opacity=\"1\" /><path clip-path=\"url(#clip530)\" d=\"M108.978 73.775 Q105.367 73.775 103.538 77.3398 Q101.733 80.8814 101.733 88.011 Q101.733 95.1174 103.538 98.6822 Q105.367 102.224 108.978 102.224 Q112.612 102.224 114.418 98.6822 Q116.246 95.1174 116.246 88.011 Q116.246 80.8814 114.418 77.3398 Q112.612 73.775 108.978 73.775 M108.978 70.0713 Q114.788 70.0713 117.844 74.6777 Q120.922 79.261 120.922 88.011 Q120.922 96.7378 117.844 101.344 Q114.788 105.928 108.978 105.928 Q103.168 105.928 100.089 101.344 Q97.0335 96.7378 97.0335 88.011 Q97.0335 79.261 100.089 74.6777 Q103.168 70.0713 108.978 70.0713 Z\" fill=\"#000000\" fill-rule=\"evenodd\" fill-opacity=\"1\" /><polyline clip-path=\"url(#clip532)\" style=\"stroke:#009af9; stroke-linecap:round; stroke-linejoin:round; stroke-width:4; stroke-opacity:1; fill:none\" points=\"219.069,1445.72 1254.84,766.846 2290.61,87.9763 \"/>\n",
       "<path clip-path=\"url(#clip530)\" d=\"M230.117 198.898 L502.13 198.898 L502.13 95.2176 L230.117 95.2176  Z\" fill=\"#ffffff\" fill-rule=\"evenodd\" fill-opacity=\"1\"/>\n",
       "<polyline clip-path=\"url(#clip530)\" style=\"stroke:#000000; stroke-linecap:round; stroke-linejoin:round; stroke-width:4; stroke-opacity:1; fill:none\" points=\"230.117,198.898 502.13,198.898 502.13,95.2176 230.117,95.2176 230.117,198.898 \"/>\n",
       "<polyline clip-path=\"url(#clip530)\" style=\"stroke:#009af9; stroke-linecap:round; stroke-linejoin:round; stroke-width:4; stroke-opacity:1; fill:none\" points=\"254.515,147.058 400.904,147.058 \"/>\n",
       "<path clip-path=\"url(#clip530)\" d=\"M439.144 166.745 Q437.339 171.375 435.626 172.787 Q433.913 174.199 431.043 174.199 L427.64 174.199 L427.64 170.634 L430.14 170.634 Q431.899 170.634 432.871 169.8 Q433.844 168.967 435.024 165.865 L435.788 163.921 L425.302 138.412 L429.816 138.412 L437.918 158.689 L446.019 138.412 L450.533 138.412 L439.144 166.745 Z\" fill=\"#000000\" fill-rule=\"evenodd\" fill-opacity=\"1\" /><path clip-path=\"url(#clip530)\" d=\"M457.825 160.402 L465.464 160.402 L465.464 134.037 L457.154 135.703 L457.154 131.444 L465.417 129.778 L470.093 129.778 L470.093 160.402 L477.732 160.402 L477.732 164.338 L457.825 164.338 L457.825 160.402 Z\" fill=\"#000000\" fill-rule=\"evenodd\" fill-opacity=\"1\" /></svg>\n"
      ]
     },
     "metadata": {},
     "output_type": "display_data"
    }
   ],
   "source": [
    "plot([1,2,3], [3,4,5])"
   ]
  },
  {
   "cell_type": "code",
   "execution_count": null,
   "metadata": {},
   "outputs": [],
   "source": []
  }
 ],
 "metadata": {
  "kernelspec": {
   "display_name": "Julia 1.9.1",
   "language": "julia",
   "name": "julia-1.9"
  },
  "language_info": {
   "file_extension": ".jl",
   "mimetype": "application/julia",
   "name": "julia",
   "version": "1.9.1"
  },
  "orig_nbformat": 4
 },
 "nbformat": 4,
 "nbformat_minor": 2
}
