{
 "cells": [
  {
   "cell_type": "code",
   "execution_count": 6,
   "metadata": {},
   "outputs": [],
   "source": [
    "using DelimitedFiles\n",
    "using Statistics"
   ]
  },
  {
   "cell_type": "code",
   "execution_count": 14,
   "metadata": {},
   "outputs": [
    {
     "data": {
      "text/plain": [
       "([5.1 3.5 1.4 0.2; 4.7 3.2 1.3 0.2; … ; 6.2 3.4 5.4 2.3; 5.9 3.0 5.1 1.8], [1, 1, 1, 1, 1, 1, 1, 1, 1, 1  …  3, 3, 3, 3, 3, 3, 3, 3, 3, 3])"
      ]
     },
     "metadata": {},
     "output_type": "display_data"
    }
   ],
   "source": [
    "irisPath = \"/home/minhhn/Documents/MachineLearning/Dataset/Iris/iris-train.txt\"\n",
    "\n",
    "# read data function\n",
    "function readData(path)\n",
    "    A = readdlm(path)\n",
    "    y = Int.(A[:,1])\n",
    "    X = A[:,2:end]\n",
    "    (X, y)\n",
    "end\n",
    "\n",
    "X,y = readData(irisPath)"
   ]
  },
  {
   "cell_type": "code",
   "execution_count": 15,
   "metadata": {},
   "outputs": [
    {
     "data": {
      "text/plain": [
       "([5.013953488372093 5.902272727272727 6.560465116279069; 3.40232558139535 2.759090909090909 2.9697674418604647; 1.4627906976744185 4.229545454545454 5.532558139534883; 0.24186046511627904 1.3136363636363635 2.016279069767442], [0.35495230756018964 0.5205045121282594 0.6388753268658622; 0.39004784327604836 0.3112750834709582 0.33419048155557596; 0.15278876768419214 0.48348518914067395 0.5664092959926881; 0.10961525384712201 0.20413277609154645 0.28278397657688786], [0.33076923076923076, 0.3384615384615385, 0.33076923076923076])"
      ]
     },
     "metadata": {},
     "output_type": "display_data"
    }
   ],
   "source": [
    "function train(X, y)\n",
    "    K = length(unique(y))\n",
    "    N, D = size(X)\n",
    "    μ = zeros(D, K)\n",
    "    σ = zeros(D, K)\n",
    "    θ = zeros(K) # prior, θ[k] = P(y=k)\n",
    "    for k=1:K\n",
    "        idk = (y .== k)\n",
    "        Xk = X[idk, :]\n",
    "        μ[:, k] = mean(Xk, dims = 1)\n",
    "        σ[:, k] = std(Xk, dims = 1)\n",
    "        θ[k] = sum(idk)/N\n",
    "    end\n",
    "    (μ, σ, θ) # \\mu, \\sigma, \\theta \n",
    "end\n",
    "\n",
    "μ, σ, θ = train(X, y)"
   ]
  },
  {
   "attachments": {},
   "cell_type": "markdown",
   "metadata": {},
   "source": [
    "$\\log P(y = k|x) = \\sum_{j=1}^D \\log P(x_j|y=k) + \\log P(y=k)$\n",
    "\n",
    "$ = \\sum_{j=1}^D \\left[ -\\log(\\sqrt{2\\pi}\\sigma) - \\frac{1}{2\\sigma_{jk}^2}(x_j - \\mu_{jk})^2 \\right] + \\log \\theta_k $\n",
    "\n",
    "$ \\propto -\\sum_{j=1}^D \\left[\\log (\\sigma_{jk}) + \\frac{1}{2\\sigma_{jk}^2}(x_j - \\mu_{jk})^2 \\right] + \\log \\theta_k $"
   ]
  },
  {
   "cell_type": "code",
   "execution_count": 20,
   "metadata": {},
   "outputs": [
    {
     "data": {
      "text/plain": [
       "classify (generic function with 1 method)"
      ]
     },
     "metadata": {},
     "output_type": "display_data"
    }
   ],
   "source": [
    "function classify(μ, σ, θ, x)\n",
    "    K = length(θ)\n",
    "    p = zeros(K) # log posterior distribution\n",
    "    for k=1:K\n",
    "        p[k] = -sum(log.(σ[:,k]) + (x - μ[:,k]) .^2 ./ (2*σ[:,k].^2)) + log(θ[k])\n",
    "    end\n",
    "    argmax(p)\n",
    "end\n"
   ]
  },
  {
   "cell_type": "code",
   "execution_count": 22,
   "metadata": {},
   "outputs": [
    {
     "data": {
      "text/plain": [
       "3"
      ]
     },
     "metadata": {},
     "output_type": "display_data"
    }
   ],
   "source": [
    "classify(μ, σ, θ, X[end,:])"
   ]
  },
  {
   "cell_type": "code",
   "execution_count": null,
   "metadata": {},
   "outputs": [],
   "source": [
    "z = map(i -> classify(μ, σ, θ, X[i,:]), 1:length(y))"
   ]
  },
  {
   "cell_type": "code",
   "execution_count": 24,
   "metadata": {},
   "outputs": [
    {
     "data": {
      "text/plain": [
       "0.9538461538461539"
      ]
     },
     "metadata": {},
     "output_type": "display_data"
    }
   ],
   "source": [
    "ŷ = [classify(μ, σ, θ, X[i,:]) for i=1:length(y)] # y\\hat\n",
    "training_accuracy = sum(ŷ .== y)/length(y)"
   ]
  },
  {
   "cell_type": "code",
   "execution_count": null,
   "metadata": {},
   "outputs": [],
   "source": []
  }
 ],
 "metadata": {
  "kernelspec": {
   "display_name": "Julia 1.8.5",
   "language": "julia",
   "name": "julia-1.8"
  },
  "language_info": {
   "file_extension": ".jl",
   "mimetype": "application/julia",
   "name": "julia",
   "version": "1.8.5"
  },
  "orig_nbformat": 4
 },
 "nbformat": 4,
 "nbformat_minor": 2
}
