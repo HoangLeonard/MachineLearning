{
 "cells": [
  {
   "cell_type": "code",
   "execution_count": 12,
   "metadata": {},
   "outputs": [
    {
     "data": {
      "text/plain": [
       "(Any[\"AL\" 3559897 … 3451586 18; \"AK\" 472211 … 457728 8; … ; \"WI\" 3667497 … 4156609 27.3; \"WY\" 370713 … 381882 14], AbstractString[\"State\" \"Drivers\" … \"Pop\" \"Tax\"])"
      ]
     },
     "metadata": {},
     "output_type": "display_data"
    }
   ],
   "source": [
    "using DelimitedFiles\n",
    "A, header = readdlm(\"/home/minhhn/Documents/ML/Dataset/Fuel/fuel.txt\", ',', header=true)"
   ]
  },
  {
   "attachments": {},
   "cell_type": "markdown",
   "metadata": {},
   "source": [
    "$$ \n",
    "\n",
    "(R'R)^{-1}R'y = x\n",
    "\n",
    "$$"
   ]
  },
  {
   "cell_type": "code",
   "execution_count": 13,
   "metadata": {},
   "outputs": [
    {
     "data": {
      "text/plain": [
       "51×1 Matrix{Float64}:\n",
       " 18.0\n",
       "  8.0\n",
       " 18.0\n",
       " 21.7\n",
       " 18.0\n",
       " 22.0\n",
       " 25.0\n",
       " 23.0\n",
       " 20.0\n",
       " 13.6\n",
       "  ⋮\n",
       " 20.0\n",
       " 20.0\n",
       " 24.5\n",
       " 20.0\n",
       " 17.5\n",
       " 23.0\n",
       " 25.65\n",
       " 27.3\n",
       " 14.0"
      ]
     },
     "metadata": {},
     "output_type": "display_data"
    }
   ],
   "source": [
    "taxid = header[1,:] .== \"Tax\"\n",
    "tax = Matrix{Float64}(A[:, taxid])"
   ]
  },
  {
   "cell_type": "code",
   "execution_count": 14,
   "metadata": {},
   "outputs": [
    {
     "data": {
      "text/plain": [
       "51×1 Matrix{Float64}:\n",
       " 1031.3800670184662\n",
       " 1031.6410619407159\n",
       "  908.5971532882954\n",
       "  946.5705758213509\n",
       "  844.7033363249545\n",
       "  989.6061797676718\n",
       "  999.5934303166717\n",
       "  924.3448380959871\n",
       "  700.1952729018834\n",
       " 1000.124158077562\n",
       "    ⋮\n",
       "  942.0443649520342\n",
       "  835.2955548937877\n",
       "  935.7885458586665\n",
       " 1075.288201725559\n",
       "  889.9195143953199\n",
       "  930.8562455424127\n",
       "  904.8936009399672\n",
       "  882.3290812294349\n",
       "  970.7527456125191"
      ]
     },
     "metadata": {},
     "output_type": "display_data"
    }
   ],
   "source": [
    "driverid = header[1,:] .== \"Drivers\"\n",
    "popid = header[1,:] .== \"Pop\"\n",
    "dlic = Matrix{Float64}(1000 .* A[:, driverid] ./ A[:, popid])"
   ]
  },
  {
   "cell_type": "code",
   "execution_count": 15,
   "metadata": {},
   "outputs": [
    {
     "data": {
      "text/plain": [
       "51×1 Matrix{Float64}:\n",
       " 23471.0\n",
       " 30064.0\n",
       " 25578.0\n",
       " 22257.0\n",
       " 32275.0\n",
       " 32949.0\n",
       " 40640.0\n",
       " 31255.0\n",
       " 37383.0\n",
       " 28145.0\n",
       "     ⋮\n",
       " 26239.0\n",
       " 27871.0\n",
       " 23907.0\n",
       " 26901.0\n",
       " 31162.0\n",
       " 31528.0\n",
       " 21915.0\n",
       " 28232.0\n",
       " 27230.0"
      ]
     },
     "metadata": {},
     "output_type": "display_data"
    }
   ],
   "source": [
    "\n",
    "incomeid = header[1,:] .== \"Income\"\n",
    "income = Matrix{Float64}( A[:, incomeid] )\n"
   ]
  },
  {
   "cell_type": "code",
   "execution_count": 16,
   "metadata": {},
   "outputs": [
    {
     "data": {
      "text/plain": [
       "51×1 Matrix{Float64}:\n",
       " 16.527110421116006\n",
       " 13.734286232096347\n",
       " 15.753556277508256\n",
       " 16.58243604314262\n",
       " 17.364707500812983\n",
       " 16.389597731548893\n",
       " 14.351905441476942\n",
       " 12.505315356136236\n",
       " 10.583082767502933\n",
       " 16.839831188560346\n",
       "  ⋮\n",
       " 16.422360477832594\n",
       " 18.198286758380327\n",
       " 15.365228849251544\n",
       " 13.802819250816214\n",
       " 16.109851054234124\n",
       " 16.305367097057776\n",
       " 15.175120670274953\n",
       " 16.781654267845337\n",
       " 14.736190500960927"
      ]
     },
     "metadata": {},
     "output_type": "display_data"
    }
   ],
   "source": [
    "milesid = header[1,:] .== \"Miles\"\n",
    "logMiles = Matrix{Float64}( log2.(A[:, milesid]) )"
   ]
  },
  {
   "cell_type": "code",
   "execution_count": 17,
   "metadata": {},
   "outputs": [
    {
     "data": {
      "text/plain": [
       "51×1 Matrix{Float64}:\n",
       " 690.2644175749931\n",
       " 514.2792225950783\n",
       " 621.475071439064\n",
       " 655.2926679346258\n",
       " 573.9128549539\n",
       " 616.6115116683296\n",
       " 549.9926078239395\n",
       " 626.0239337079222\n",
       " 317.492397161607\n",
       " 586.3460960564428\n",
       "   ⋮\n",
       " 638.2310609545192\n",
       " 681.100136591545\n",
       " 591.4999458878183\n",
       " 691.0227118608703\n",
       " 681.0311214380635\n",
       " 576.0697495580029\n",
       " 562.4109333021843\n",
       " 581.7937169457123\n",
       " 842.7917524261421"
      ]
     },
     "metadata": {},
     "output_type": "display_data"
    }
   ],
   "source": [
    "fuelcid = header[1,:] .== \"FuelC\"\n",
    "fuel = Matrix{Float64}( 1000 .* A[:, fuelcid] ./ A[:, popid] )"
   ]
  },
  {
   "cell_type": "code",
   "execution_count": 18,
   "metadata": {},
   "outputs": [
    {
     "data": {
      "text/plain": [
       "51×5 Matrix{Float64}:\n",
       " 1.0  18.0   1031.38   23471.0  16.5271\n",
       " 1.0   8.0   1031.64   30064.0  13.7343\n",
       " 1.0  18.0    908.597  25578.0  15.7536\n",
       " 1.0  21.7    946.571  22257.0  16.5824\n",
       " 1.0  18.0    844.703  32275.0  17.3647\n",
       " 1.0  22.0    989.606  32949.0  16.3896\n",
       " 1.0  25.0    999.593  40640.0  14.3519\n",
       " 1.0  23.0    924.345  31255.0  12.5053\n",
       " 1.0  20.0    700.195  37383.0  10.5831\n",
       " 1.0  13.6   1000.12   28145.0  16.8398\n",
       " ⋮                              \n",
       " 1.0  20.0    942.044  26239.0  16.4224\n",
       " 1.0  20.0    835.296  27871.0  18.1983\n",
       " 1.0  24.5    935.789  23907.0  15.3652\n",
       " 1.0  20.0   1075.29   26901.0  13.8028\n",
       " 1.0  17.5    889.92   31162.0  16.1099\n",
       " 1.0  23.0    930.856  31528.0  16.3054\n",
       " 1.0  25.65   904.894  21915.0  15.1751\n",
       " 1.0  27.3    882.329  28232.0  16.7817\n",
       " 1.0  14.0    970.753  27230.0  14.7362"
      ]
     },
     "metadata": {},
     "output_type": "display_data"
    }
   ],
   "source": [
    "N = length(A[:,1])\n",
    "X = [ones(N) tax dlic income logMiles]"
   ]
  },
  {
   "cell_type": "code",
   "execution_count": 19,
   "metadata": {},
   "outputs": [
    {
     "data": {
      "text/plain": [
       "51×1 Matrix{Float64}:\n",
       " 690.2644175749931\n",
       " 514.2792225950783\n",
       " 621.475071439064\n",
       " 655.2926679346258\n",
       " 573.9128549539\n",
       " 616.6115116683296\n",
       " 549.9926078239395\n",
       " 626.0239337079222\n",
       " 317.492397161607\n",
       " 586.3460960564428\n",
       "   ⋮\n",
       " 638.2310609545192\n",
       " 681.100136591545\n",
       " 591.4999458878183\n",
       " 691.0227118608703\n",
       " 681.0311214380635\n",
       " 576.0697495580029\n",
       " 562.4109333021843\n",
       " 581.7937169457123\n",
       " 842.7917524261421"
      ]
     },
     "metadata": {},
     "output_type": "display_data"
    }
   ],
   "source": [
    "y = fuel"
   ]
  },
  {
   "cell_type": "code",
   "execution_count": 20,
   "metadata": {},
   "outputs": [
    {
     "data": {
      "text/plain": [
       "train (generic function with 1 method)"
      ]
     },
     "metadata": {},
     "output_type": "display_data"
    }
   ],
   "source": [
    "train(X, y) = inv(X'* X)* X'* y"
   ]
  },
  {
   "cell_type": "code",
   "execution_count": 21,
   "metadata": {},
   "outputs": [
    {
     "data": {
      "text/plain": [
       "predict (generic function with 1 method)"
      ]
     },
     "metadata": {},
     "output_type": "display_data"
    }
   ],
   "source": [
    "predict(θ, xNew) = xNew * θ"
   ]
  },
  {
   "cell_type": "code",
   "execution_count": 22,
   "metadata": {},
   "outputs": [
    {
     "data": {
      "text/plain": [
       "5×1 Matrix{Float64}:\n",
       " 154.19284457730828\n",
       "  -4.2279832083293485\n",
       "   0.47187121344198957\n",
       "  -0.006135330970417796\n",
       "  18.545274506045644"
      ]
     },
     "metadata": {},
     "output_type": "display_data"
    }
   ],
   "source": [
    "θ = train(X, y)"
   ]
  }
 ],
 "metadata": {
  "kernelspec": {
   "display_name": "Julia 1.8.5",
   "language": "julia",
   "name": "julia-1.8"
  },
  "language_info": {
   "file_extension": ".jl",
   "mimetype": "application/julia",
   "name": "julia",
   "version": "1.8.5"
  },
  "orig_nbformat": 4
 },
 "nbformat": 4,
 "nbformat_minor": 2
}
