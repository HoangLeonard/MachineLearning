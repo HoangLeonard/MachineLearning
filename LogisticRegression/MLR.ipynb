{
 "cells": [
  {
   "attachments": {},
   "cell_type": "markdown",
   "metadata": {},
   "source": [
    "K = số class của bài toán phân loại\n",
    "\n",
    "N = size(y)\n",
    "# Hàm kích hoạt\n",
    "\n",
    "Ta có thể tính được xác suất để $x$ là input của lớp $y = k$ bằng công thức\n",
    "$$ P(y = k | x) = \\frac{e^{\\theta_{k}x}}{Z(x)} $$\n",
    "với: $$Z(x) = \\sum^{K}_{k=1}e^{\\theta_{k}x_i}$$\n",
    "Khi tính toán có thể gây ra tràn số vì e tiến tới $\\inf$ rất nhanh do đó ta chia cả tử và mẫu của xác suất cho số mũ lớn nhất xuất hiện (m)\n",
    "$$ P(y = k | x) = \\frac{e^{\\theta_{k}x}}{Z(x)} = \\frac{e^{a1-m}}{e^{a1-m} + e^{a2-m} + e^{a3-m}} $$\n"
   ]
  },
  {
   "attachments": {},
   "cell_type": "markdown",
   "metadata": {},
   "source": [
    "# Training\n",
    "\n",
    "Maximum likelihood principle:\n",
    "$$P(θ_{training}) ⇥ max$$\n",
    "$$l(θ) := \\log{∏^{N}_{n=1}P(y = y_i| x_i)} → max$$\n",
    "lấy log để tránh tràn số\n",
    "$$l(θ) = ∑^{N}_{n=1}[θ_{y_{i}}x_i - \\log{\\sum^{K}_{k=1}e^{θ_kx_i}}] =  ∑^{N}_{n=1}θ_{y_{i}}x_i - ∑^{N}_{n=1}\\log{Z(x_i)}$$\n",
    "\n",
    "# Hàm mục tiêu\n",
    "\n",
    "$$J(θ) = \\frac{-1}{N}l(θ) + λR(θ) → min$$\n",
    "\n",
    "λR(θ) được gọi là hiệu chỉnh (regularization)\n",
    "\n",
    "# Để lập trình cho hàm l(θ) ta dùng công thức:"
   ]
  },
  {
   "cell_type": "code",
   "execution_count": null,
   "metadata": {
    "vscode": {
     "languageId": "julia"
    }
   },
   "outputs": [],
   "source": [
    "function l(θ)\n",
    "    sum(sum(θ[y, :] .* X, dims=2)) - sum(log.(sum(exp.(θ * X'), dims=1)))\n",
    "end"
   ]
  }
 ],
 "metadata": {
  "language_info": {
   "name": "python"
  },
  "orig_nbformat": 4
 },
 "nbformat": 4,
 "nbformat_minor": 2
}
